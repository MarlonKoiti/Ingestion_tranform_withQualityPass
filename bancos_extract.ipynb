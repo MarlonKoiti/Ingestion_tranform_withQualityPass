{
	"metadata": {
		"kernelspec": {
			"name": "glue_pyspark",
			"display_name": "Glue PySpark",
			"language": "python"
		},
		"language_info": {
			"name": "Python_Glue_Session",
			"mimetype": "text/x-python",
			"codemirror_mode": {
				"name": "python",
				"version": 3
			},
			"pygments_lexer": "python3",
			"file_extension": ".py"
		}
	},
	"nbformat_minor": 5,
	"nbformat": 4,
	"cells": [
		{
			"cell_type": "markdown",
			"source": "# Import",
			"metadata": {},
			"id": "455133ef-1275-4534-9ce5-cd3897fddebd"
		},
		{
			"cell_type": "code",
			"source": "import pandas as pd\nfrom pyspark.sql import SparkSession\nfrom pyspark.sql.functions import col,regexp_replace\nimport pyarrow as pa\nimport pyarrow.parquet as pq",
			"metadata": {
				"trusted": true,
				"tags": []
			},
			"execution_count": 2,
			"outputs": [
				{
					"name": "stdout",
					"text": "\n",
					"output_type": "stream"
				}
			],
			"id": "2a58d7cf-a7d5-4961-87a9-c4e1e4887bd9"
		},
		{
			"cell_type": "code",
			"source": "# Inicialize a sessão Spark\nspark = SparkSession.builder \\\n    .appName(\"ReadS3DataBancos\") \\\n    .getOrCreate()\n\n# Construa o caminho completo para o arquivo no S3\ns3_path = f\"s3://172684736408-raw/Bancos/*.tsv\"\noutput_s3_path = \"s3://172684736408-trusted/Bancos/\"\n\n# Leia o arquivo CSV do S3\ndf_bancos = spark.read.option(\"encoding\", \"UTF-8\").csv(s3_path, header=True, inferSchema=True, sep='\\t')\n\n# Construa o caminho completo para o arquivo no S3\ns3_path = f\"s3://172684736408-raw/Reclamações/*.csv\"\noutput_s3_path = \"s3://172684736408-trusted/Reclamações/\"\n\n# Leia o arquivo CSV do S3\ndf_reclamacoes = spark.read.option(\"encoding\", \"UTF-8\").csv(s3_path, header=True, inferSchema=True, sep=';')\n\n# Construa o caminho completo para o arquivo no S3\ns3_path = f\"s3://172684736408-raw/Empregados/*.csv\"\noutput_s3_path = \"s3://172684736408-trusted/Empregados/\"\n\n# Leia o arquivo CSV do S3\ndf_empregados = spark.read.option(\"encoding\", \"UTF-8\").csv(s3_path, header=True, inferSchema=True, sep='|')",
			"metadata": {
				"trusted": true,
				"tags": []
			},
			"execution_count": 3,
			"outputs": [
				{
					"name": "stdout",
					"text": "\n",
					"output_type": "stream"
				}
			],
			"id": "42ac8aa9-036c-419e-a4ba-b13e88769923"
		},
		{
			"cell_type": "code",
			"source": "#Tratando o campo Nome\ndf_bancos = df_bancos.withColumn(\"Nome\", regexp_replace(col('Nome'), \" - PRUDENCIAL\", \"\"))\n\n#Tratando os nomes\ndf_reclamacoes = df_reclamacoes.withColumnRenamed(\"Quantidade total de clientes – CCS e SCR\", \"Quantidade total de clientes\")\n\n#Fazendo as agregações\ndf_reclamacoes = df_reclamacoes.groupby(\"Instituição financeira\").agg({\n        'Índice': 'min',\n        'Quantidade total de reclamações': 'sum',\n        'Quantidade total de clientes': 'mean'\n    })\n\n#Tratando colunas\ndf_reclamacoes_filtrado = df_reclamacoes.withColumn(\"Instituição financeira\", regexp_replace(col('Instituição financeira'), \" \\(conglomerado\\)\", \"\")) \\\n                          .withColumnRenamed(\"Instituição financeira\", \"Nome\") \\\n                          .withColumnRenamed(\"min(Índice)\", \"indice\") \\\n                          .withColumnRenamed(\"sum(Quantidade total de reclamações)\", \"qtd_total_reclamacoes\") \\\n                          .withColumnRenamed(\"avg(Quantidade total de clientes)\", \"qtd_total_clientes\")\n\n#Agrupando e tirando a media\ndf_empregados = df_empregados.groupBy(\"Nome\").agg({\n        'Perspectiva positiva da empresa(%)': 'mean',\n        'Remuneração e benefícios': 'mean'\n    })\n#Renomeando colunas\ndf_empregados = df_empregados.withColumnRenamed(\"avg(Perspectiva positiva da empresa(%))\", \"satisfacao_empregado\") \\\n                          .withColumnRenamed(\"avg(Remuneração e benefícios)\", \"satisfacao_salario\")",
			"metadata": {
				"trusted": true
			},
			"execution_count": 4,
			"outputs": [
				{
					"name": "stdout",
					"text": "\n",
					"output_type": "stream"
				}
			],
			"id": "fc4b8b53-c875-44e0-aaf8-e2017817d795"
		},
		{
			"cell_type": "code",
			"source": "#df_bancos.show()",
			"metadata": {
				"trusted": true,
				"tags": []
			},
			"execution_count": 1,
			"outputs": [],
			"id": "5360960a-0f09-4b18-bd4e-b3798042b3ec"
		},
		{
			"cell_type": "code",
			"source": "df_bancos.write.format(\"parquet\").mode(\"overwrite\").option(\"path\", f\"{output_s3_path}\").save()\ndf_reclamacoes_filtrado.write.format(\"parquet\").mode(\"overwrite\").option(\"path\", f\"{output_s3_path}\").save()\ndf_empregados.write.format(\"parquet\").mode(\"overwrite\").option(\"path\", f\"{output_s3_path}\").save()",
			"metadata": {
				"trusted": true,
				"tags": []
			},
			"execution_count": 5,
			"outputs": [
				{
					"name": "stdout",
					"text": "\n",
					"output_type": "stream"
				}
			],
			"id": "f4c43eee-1f9d-46bd-9b3d-629ee0c4b49b"
		},
		{
			"cell_type": "code",
			"source": "# Encerre a sessão Spark\nspark.stop()",
			"metadata": {
				"trusted": true,
				"tags": []
			},
			"execution_count": 6,
			"outputs": [
				{
					"name": "stdout",
					"text": "\n",
					"output_type": "stream"
				}
			],
			"id": "e7966bfd-fd7a-45de-af03-4be2d858ac9c"
		}
	]
}